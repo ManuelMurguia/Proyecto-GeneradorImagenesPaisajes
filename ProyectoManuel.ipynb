{
  "nbformat": 4,
  "nbformat_minor": 0,
  "metadata": {
    "colab": {
      "provenance": []
    },
    "kernelspec": {
      "name": "python3",
      "display_name": "Python 3"
    },
    "language_info": {
      "name": "python"
    }
  },
  "cells": [
    {
      "cell_type": "markdown",
      "source": [
        "# Proyecto 1 - Manuel Murguia\n",
        "### Deep Learning\n",
        "\n",
        "<p style = \"text-align: justify\"> En este proyecto, exploramos la generación de imágenes de paisajes utilizando autoencoders, redes neuronales capaces de comprimir y descomprimir datos. Nos centraremos en la arquitectura de autoencoder variacional (VAE), que no solo puede reconstruir imágenes, sino también generar nuevas muestras del espacio latente aprendido. Nuestro objetivo es crear paisajes realistas y estéticamente agradables, abordando desafíos como la diversidad y la calidad de las imágenes generadas."
      ],
      "metadata": {
        "id": "pDuRPBotclMJ"
      }
    },
    {
      "cell_type": "markdown",
      "source": [
        "#### Importación de Librerias"
      ],
      "metadata": {
        "id": "D5QObIoVbBgt"
      }
    },
    {
      "cell_type": "code",
      "source": [
        "from tensorflow.keras.layers import Lambda, Input, Dense, Conv2D, Conv2DTranspose, Flatten, Reshape\n",
        "from tensorflow.keras.models import Model\n",
        "from tensorflow.keras.losses import mean_squared_error\n",
        "from tensorflow.keras import backend as K\n",
        "import numpy as np\n",
        "import zipfile\n",
        "import os\n",
        "import random\n",
        "from PIL import Image\n",
        "import matplotlib.pyplot as plt"
      ],
      "metadata": {
        "id": "ZUjPc6kj5sp2"
      },
      "execution_count": 1,
      "outputs": []
    },
    {
      "cell_type": "markdown",
      "source": [
        "#### Conexión a Google Drive"
      ],
      "metadata": {
        "id": "AbJuI7oAbGAh"
      }
    },
    {
      "cell_type": "code",
      "execution_count": 2,
      "metadata": {
        "colab": {
          "base_uri": "https://localhost:8080/",
          "height": 0
        },
        "id": "hljXJbzBFs3g",
        "outputId": "e8a73dfc-ad3d-4176-ca22-40fdfab970ab"
      },
      "outputs": [
        {
          "output_type": "stream",
          "name": "stdout",
          "text": [
            "Drive already mounted at /content/drive; to attempt to forcibly remount, call drive.mount(\"/content/drive\", force_remount=True).\n"
          ]
        }
      ],
      "source": [
        "from google.colab import drive\n",
        "drive.mount('/content/drive')"
      ]
    },
    {
      "cell_type": "code",
      "source": [
        "file_path = \"/content/drive/MyDrive/DeepLearning/Proyecto1/archive.zip\"\n",
        "\n",
        "directory_path = \"/content/images\"\n",
        "\n",
        "# Crear el directorio de destino si no existe\n",
        "os.makedirs(directory_path, exist_ok=True)\n",
        "\n",
        "# Descomprimir el archivo ZIP\n",
        "with zipfile.ZipFile(file_path, 'r') as zip_ref:\n",
        "    zip_ref.extractall(directory_path)"
      ],
      "metadata": {
        "id": "7suD9ken5NN_"
      },
      "execution_count": 3,
      "outputs": []
    },
    {
      "cell_type": "markdown",
      "source": [
        "Este código no es nada especial, simplemente definimos las rutas dentro del google drive donde se encuentra el archivo zip con las imagenes y donde queremos depositarlas"
      ],
      "metadata": {
        "id": "zruTYtDPbJD9"
      }
    },
    {
      "cell_type": "markdown",
      "source": [
        "#### Train y Test"
      ],
      "metadata": {
        "id": "R8T73-vZb4zM"
      }
    },
    {
      "cell_type": "code",
      "source": [
        "# Función para cargar las imágenes\n",
        "def load_images_from_folder(folder, target_size = (32, 32)): #------------------------------------------------------------------------------- size en vez de 32\n",
        "    images = []\n",
        "    labels = []\n",
        "    for filename in os.listdir(folder):\n",
        "        img = Image.open(os.path.join(folder, filename))\n",
        "        if img is not None:\n",
        "            # Redimensionar la imagen\n",
        "            img = img.resize(target_size)\n",
        "\n",
        "            # Convertir a formato RGB y asegurarse de que tenga solo 3 canales\n",
        "            img = img.convert('RGB')\n",
        "            images.append(np.array(img))\n",
        "\n",
        "            # Asigna una etiqueta (por ejemplo, 0 para entrenamiento, 1 para prueba)\n",
        "            labels.append(0 if random.random() < 0.8 else 1)\n",
        "    return images, labels\n",
        "\n",
        "# Directorio donde están tus imágenes\n",
        "root_directory = \"/content/images\"\n",
        "\n",
        "# Cargar las imágenes y las etiquetas\n",
        "images, labels = load_images_from_folder(root_directory)\n",
        "\n",
        "# Dividir las imágenes y las etiquetas en conjuntos de entrenamiento y prueba\n",
        "x_train = []\n",
        "y_train = []\n",
        "x_test = []\n",
        "y_test = []\n",
        "\n",
        "for img, label in zip(images, labels):\n",
        "    if label == 0:\n",
        "        x_train.append(img)\n",
        "        y_train.append(label)\n",
        "    else:\n",
        "        x_test.append(img)\n",
        "        y_test.append(label)\n",
        "\n",
        "# Convertir listas a numpy arrays\n",
        "x_train = np.array(x_train)\n",
        "y_train = np.array(y_train)\n",
        "x_test = np.array(x_test)\n",
        "y_test = np.array(y_test)\n",
        "\n",
        "# Imprimir las dimensiones de los conjuntos de entrenamiento y prueba\n",
        "print('Dimensiones de x_train:', x_train.shape)\n",
        "print('Dimensiones de x_test:', x_test.shape)"
      ],
      "metadata": {
        "colab": {
          "base_uri": "https://localhost:8080/",
          "height": 0
        },
        "id": "j7buZ33Y8iIV",
        "outputId": "9469cf2f-3cf3-4901-bbcf-aba4f523bee7"
      },
      "execution_count": 4,
      "outputs": [
        {
          "output_type": "stream",
          "name": "stdout",
          "text": [
            "Dimensiones de x_train: (3448, 32, 32, 3)\n",
            "Dimensiones de y_train: (3448,)\n",
            "Dimensiones de x_test: (871, 32, 32, 3)\n",
            "Dimensiones de y_test: (871,)\n"
          ]
        }
      ]
    },
    {
      "cell_type": "markdown",
      "source": [
        "El código anterior nos separa nuestro dataset en train y test. El train lo usaremos para entrenar nuestro modelo mientras que el test servirá para comprobar la funcionalidad de nuestro modelo."
      ],
      "metadata": {
        "id": "Y0c_RdmRbdDN"
      }
    },
    {
      "cell_type": "markdown",
      "source": [
        "#### Imagen de Ejemplo"
      ],
      "metadata": {
        "id": "3B_KudJ3cIGl"
      }
    },
    {
      "cell_type": "code",
      "source": [
        "# Convertir el lote de imágenes a un arreglo NumPy\n",
        "images = x_train\n",
        "\n",
        "# Seleccionar una imagen aleatoria del lote\n",
        "index = np.random.randint(len(images))\n",
        "\n",
        "image = images[0]\n",
        "\n",
        "# Mostrar la imagen\n",
        "plt.figure(figsize = (5, 5))\n",
        "plt.imshow(image)\n",
        "plt.axis('off')\n",
        "plt.show()"
      ],
      "metadata": {
        "colab": {
          "base_uri": "https://localhost:8080/",
          "height": 422
        },
        "id": "pVwqOoIG86oA",
        "outputId": "dbaa980a-9cea-43ba-ec4a-47ec4451f74e"
      },
      "execution_count": 5,
      "outputs": [
        {
          "output_type": "display_data",
          "data": {
            "text/plain": [
              "<Figure size 500x500 with 1 Axes>"
            ],
            "image/png": "[encoded data removed]"
          },
          "metadata": {}
        }
      ]
    },
    {
      "cell_type": "markdown",
      "source": [
        "Aquí podemos ver como se vería una imagen aleatoria del dataset de entrenamiento"
      ],
      "metadata": {
        "id": "2wdHdPC1btP5"
      }
    },
    {
      "cell_type": "code",
      "source": [
        "x_train.shape[1:]"
      ],
      "metadata": {
        "colab": {
          "base_uri": "https://localhost:8080/",
          "height": 0
        },
        "id": "pxVF6w4YDIIr",
        "outputId": "a16720eb-458f-4d98-c835-0ad37d7c152d"
      },
      "execution_count": 6,
      "outputs": [
        {
          "output_type": "execute_result",
          "data": {
            "text/plain": [
              "(32, 32, 3)"
            ]
          },
          "metadata": {},
          "execution_count": 6
        }
      ]
    },
    {
      "cell_type": "markdown",
      "source": [
        "Y sus dimensiones"
      ],
      "metadata": {
        "id": "W7qCVfNobzz1"
      }
    },
    {
      "cell_type": "code",
      "source": [
        "x_train = x_train.astype('float32') / 255\n",
        "x_test = x_test.astype('float32') / 255"
      ],
      "metadata": {
        "id": "y13StJESAAJH"
      },
      "execution_count": 7,
      "outputs": []
    },
    {
      "cell_type": "markdown",
      "source": [
        "normalizamos los pixeles de las imágenes"
      ],
      "metadata": {
        "id": "SKrG5VIZcTaU"
      }
    },
    {
      "cell_type": "code",
      "source": [
        "input_shape = x_train.shape[1:]\n",
        "batch_size = 64\n",
        "latent_dim = 64\n",
        "epochs = 15"
      ],
      "metadata": {
        "id": "tSxYUDJH6Y2c"
      },
      "execution_count": 8,
      "outputs": []
    },
    {
      "cell_type": "markdown",
      "source": [
        "y definimos nuestros parámetros. Cabe mencionar que estos parámetros fueron definidos déspues de varias pruebas, no los obtuve de manera aleatoria, simplemente fueron los que mejor resultado me dieron."
      ],
      "metadata": {
        "id": "ZMsbHOKScWVD"
      }
    },
    {
      "cell_type": "code",
      "source": [
        "inputs = Input(shape = input_shape, name = \"encoder_input\")\n",
        "x = Conv2D(32, 3, activation = \"relu\", strides = 2, padding = \"same\")(inputs)\n",
        "x = Conv2D(64, 3, activation = \"relu\", strides = 2, padding =  \"same\")(x)\n",
        "\n",
        "shape_before_flat = K.int_shape(x)\n",
        "\n",
        "x = Flatten()(x)\n",
        "x = Dense(256, activation = \"relu\" )(x)\n",
        "\n",
        "z_mean = Dense(latent_dim, name='z_mean')(x)\n",
        "z_log_var = Dense(latent_dim, name='z_log_var')(x)"
      ],
      "metadata": {
        "id": "2MqwKV8ePJoh"
      },
      "execution_count": 9,
      "outputs": []
    },
    {
      "cell_type": "markdown",
      "source": [
        "El código anterior define la parte del \"encoder\" de un autoencoder variacional, que toma una entrada de imagen, la procesa a través de capas convolucionales y capas densas, y produce la media y la varianza de la distribución latente."
      ],
      "metadata": {
        "id": "xY6yrYfVdJJe"
      }
    },
    {
      "cell_type": "code",
      "source": [
        "def sampling(args):\n",
        "  z_mean, z_log_var = args\n",
        "\n",
        "  dim = K.int_shape(z_mean)[1]\n",
        "\n",
        "  # TODO: check dimensions\n",
        "  epsilon = K.random_normal(shape = (K.shape(z_mean)[0], dim))\n",
        "\n",
        "  return z_mean + K.exp(0.5 * z_log_var) * epsilon"
      ],
      "metadata": {
        "id": "xVphTuriPSvN"
      },
      "execution_count": 10,
      "outputs": []
    },
    {
      "cell_type": "markdown",
      "source": [
        "<p style = \"text-align: justify\"> El código define una función llamada sampling para un autoencoder especial llamado autoencoder variacional (VAE). Esta función es como la imaginación del modelo: toma una idea general (la media y la varianza) y la convierte en algo específico y nuevo. Utiliza una especie de truco matemático para agregar un poco de variabilidad a las muestras que genera, lo que le da al modelo la capacidad de crear imágenes diferentes cada vez que lo usamos. Es como si estuviera añadiendo un poco de especias a una receta básica para hacerla más emocionante y variada. </p>"
      ],
      "metadata": {
        "id": "vytWNUFSejU9"
      }
    },
    {
      "cell_type": "code",
      "source": [
        "z = Lambda(sampling, output_shape=(latent_dim,), name='z')([z_mean, z_log_var])"
      ],
      "metadata": {
        "id": "YZEHz6OGPU1z"
      },
      "execution_count": 11,
      "outputs": []
    },
    {
      "cell_type": "markdown",
      "source": [
        "esta línea de código crea una capa en el modelo VAE que toma la media y el logaritmo de la varianza de la distribución latente como entrada y genera muestras en el espacio latente utilizando la función sampling."
      ],
      "metadata": {
        "id": "fJwjSJ8JfDYO"
      }
    },
    {
      "cell_type": "markdown",
      "source": [
        "# Encoder"
      ],
      "metadata": {
        "id": "kXiTCWY6MFKd"
      }
    },
    {
      "cell_type": "code",
      "source": [
        "encoder = Model(inputs, [z_mean, z_log_var, z], name='encoder')\n",
        "encoder.summary()"
      ],
      "metadata": {
        "colab": {
          "base_uri": "https://localhost:8080/",
          "height": 0
        },
        "id": "1rmyhpn2MBF6",
        "outputId": "0d3123b6-9ca7-44c7-a7b3-45490e6c3176"
      },
      "execution_count": 12,
      "outputs": [
        {
          "output_type": "stream",
          "name": "stdout",
          "text": [
            "Model: \"encoder\"\n",
            "__________________________________________________________________________________________________\n",
            " Layer (type)                Output Shape                 Param #   Connected to                  \n",
            "==================================================================================================\n",
            " encoder_input (InputLayer)  [(None, 32, 32, 3)]          0         []                            \n",
            "                                                                                                  \n",
            " conv2d (Conv2D)             (None, 16, 16, 32)           896       ['encoder_input[0][0]']       \n",
            "                                                                                                  \n",
            " conv2d_1 (Conv2D)           (None, 8, 8, 64)             18496     ['conv2d[0][0]']              \n",
            "                                                                                                  \n",
            " flatten (Flatten)           (None, 4096)                 0         ['conv2d_1[0][0]']            \n",
            "                                                                                                  \n",
            " dense (Dense)               (None, 256)                  1048832   ['flatten[0][0]']             \n",
            "                                                                                                  \n",
            " z_mean (Dense)              (None, 64)                   16448     ['dense[0][0]']               \n",
            "                                                                                                  \n",
            " z_log_var (Dense)           (None, 64)                   16448     ['dense[0][0]']               \n",
            "                                                                                                  \n",
            " z (Lambda)                  (None, 64)                   0         ['z_mean[0][0]',              \n",
            "                                                                     'z_log_var[0][0]']           \n",
            "                                                                                                  \n",
            "==================================================================================================\n",
            "Total params: 1101120 (4.20 MB)\n",
            "Trainable params: 1101120 (4.20 MB)\n",
            "Non-trainable params: 0 (0.00 Byte)\n",
            "__________________________________________________________________________________________________\n"
          ]
        }
      ]
    },
    {
      "cell_type": "markdown",
      "source": [
        "este fragmento de código crea y muestra un resumen del modelo encoder, que toma una entrada y produce la media (z_mean) y el logaritmo de la varianza (z_log_var) de la distribución latente, así como las muestras (z) en el espacio latente, utilizando la función de muestreo definida anteriormente."
      ],
      "metadata": {
        "id": "h0IV_-25fGqN"
      }
    },
    {
      "cell_type": "code",
      "source": [
        "latent_inputs = Input(shape=(latent_dim,), name='z_sampling')\n",
        "\n",
        "# Check if work\n",
        "x = Dense(np.prod(shape_before_flat[1:]), activation = \"relu\")(latent_inputs)\n",
        "x = Reshape(shape_before_flat[1:])(x)\n",
        "x = Conv2DTranspose(64, 3, activation = \"relu\", strides = 2, padding =  \"same\")(x)\n",
        "x = Conv2DTranspose(32, 3, activation = \"relu\", strides = 2, padding = \"same\")(x)\n",
        "outputs = Conv2DTranspose(3, 3, activation = \"sigmoid\", padding = \"same\")(x)\n",
        "\n",
        "decoder = Model(latent_inputs, outputs, name='decoder')\n",
        "decoder.summary()"
      ],
      "metadata": {
        "colab": {
          "base_uri": "https://localhost:8080/",
          "height": 0
        },
        "id": "AthQRd5CPby9",
        "outputId": "3eb82dce-3e7f-42f3-e8f3-9fff33ce2e00"
      },
      "execution_count": 13,
      "outputs": [
        {
          "output_type": "stream",
          "name": "stdout",
          "text": [
            "Model: \"decoder\"\n",
            "_________________________________________________________________\n",
            " Layer (type)                Output Shape              Param #   \n",
            "=================================================================\n",
            " z_sampling (InputLayer)     [(None, 64)]              0         \n",
            "                                                                 \n",
            " dense_1 (Dense)             (None, 4096)              266240    \n",
            "                                                                 \n",
            " reshape (Reshape)           (None, 8, 8, 64)          0         \n",
            "                                                                 \n",
            " conv2d_transpose (Conv2DTr  (None, 16, 16, 64)        36928     \n",
            " anspose)                                                        \n",
            "                                                                 \n",
            " conv2d_transpose_1 (Conv2D  (None, 32, 32, 32)        18464     \n",
            " Transpose)                                                      \n",
            "                                                                 \n",
            " conv2d_transpose_2 (Conv2D  (None, 32, 32, 3)         867       \n",
            " Transpose)                                                      \n",
            "                                                                 \n",
            "=================================================================\n",
            "Total params: 322499 (1.23 MB)\n",
            "Trainable params: 322499 (1.23 MB)\n",
            "Non-trainable params: 0 (0.00 Byte)\n",
            "_________________________________________________________________\n"
          ]
        }
      ]
    },
    {
      "cell_type": "markdown",
      "source": [
        "este fragmento de código define el decodificador del modelo VAE, que toma muestras del espacio latente como entrada y produce imágenes reconstruidas como salida, utilizando capas de convolución transpuesta para deshacer las transformaciones realizadas por el codificador."
      ],
      "metadata": {
        "id": "mdbiFdr6fi9l"
      }
    },
    {
      "cell_type": "code",
      "source": [
        "outputs = decoder(encoder(inputs)[2])\n",
        "vae = Model(inputs, outputs, name='vae')"
      ],
      "metadata": {
        "id": "qcvaemeDPeUd"
      },
      "execution_count": 14,
      "outputs": []
    },
    {
      "cell_type": "markdown",
      "source": [
        "este fragmento de código crea el modelo completo del autoencoder variacional tomando las imagenes como entrada y pasandolas por el codificador"
      ],
      "metadata": {
        "id": "CVmgvpM3f1Ml"
      }
    },
    {
      "cell_type": "code",
      "source": [
        "reconstruction_loss = mean_squared_error(K.flatten(inputs), K.flatten(outputs)) * input_shape[0] * input_shape[1]\n",
        "kl_loss = 1 + z_log_var - K.square(z_mean) - K.exp(z_log_var)\n",
        "kl_loss = K.sum(kl_loss, axis=-1)\n",
        "kl_loss *= -0.5\n",
        "vae_loss = K.mean(reconstruction_loss + kl_loss)"
      ],
      "metadata": {
        "id": "GFDBrrK6PgK5"
      },
      "execution_count": 15,
      "outputs": []
    },
    {
      "cell_type": "markdown",
      "source": [
        "este bloque de código calcula la función de pérdida del modelo de autoencoder variacional (VAE), que consta de dos partes: la pérdida de reconstrucción y la pérdida de regularización de la divergencia de Kullback-Leibler"
      ],
      "metadata": {
        "id": "hzacqjg0f-Ao"
      }
    },
    {
      "cell_type": "code",
      "source": [
        "vae.add_loss(vae_loss)\n",
        "vae.compile(optimizer='adam')\n",
        "vae.summary()"
      ],
      "metadata": {
        "colab": {
          "base_uri": "https://localhost:8080/",
          "height": 0
        },
        "id": "Mb_XXRScPhw1",
        "outputId": "b19e66b2-c688-4c15-b886-6e7657f1d001"
      },
      "execution_count": 16,
      "outputs": [
        {
          "output_type": "stream",
          "name": "stdout",
          "text": [
            "Model: \"vae\"\n",
            "__________________________________________________________________________________________________\n",
            " Layer (type)                Output Shape                 Param #   Connected to                  \n",
            "==================================================================================================\n",
            " encoder_input (InputLayer)  [(None, 32, 32, 3)]          0         []                            \n",
            "                                                                                                  \n",
            " encoder (Functional)        [(None, 64),                 1101120   ['encoder_input[0][0]']       \n",
            "                              (None, 64),                                                         \n",
            "                              (None, 64)]                                                         \n",
            "                                                                                                  \n",
            " decoder (Functional)        (None, 32, 32, 3)            322499    ['encoder[0][2]']             \n",
            "                                                                                                  \n",
            " conv2d (Conv2D)             (None, 16, 16, 32)           896       ['encoder_input[0][0]']       \n",
            "                                                                                                  \n",
            " conv2d_1 (Conv2D)           (None, 8, 8, 64)             18496     ['conv2d[0][0]']              \n",
            "                                                                                                  \n",
            " flatten (Flatten)           (None, 4096)                 0         ['conv2d_1[0][0]']            \n",
            "                                                                                                  \n",
            " dense (Dense)               (None, 256)                  1048832   ['flatten[0][0]']             \n",
            "                                                                                                  \n",
            " tf.reshape_1 (TFOpLambda)   (None,)                      0         ['decoder[0][0]']             \n",
            "                                                                                                  \n",
            " tf.reshape (TFOpLambda)     (None,)                      0         ['encoder_input[0][0]']       \n",
            "                                                                                                  \n",
            " z_log_var (Dense)           (None, 64)                   16448     ['dense[0][0]']               \n",
            "                                                                                                  \n",
            " z_mean (Dense)              (None, 64)                   16448     ['dense[0][0]']               \n",
            "                                                                                                  \n",
            " tf.convert_to_tensor (TFOp  (None,)                      0         ['tf.reshape_1[0][0]']        \n",
            " Lambda)                                                                                          \n",
            "                                                                                                  \n",
            " tf.cast (TFOpLambda)        (None,)                      0         ['tf.reshape[0][0]']          \n",
            "                                                                                                  \n",
            " tf.__operators__.add (TFOp  (None, 64)                   0         ['z_log_var[0][0]']           \n",
            " Lambda)                                                                                          \n",
            "                                                                                                  \n",
            " tf.math.square (TFOpLambda  (None, 64)                   0         ['z_mean[0][0]']              \n",
            " )                                                                                                \n",
            "                                                                                                  \n",
            " tf.math.squared_difference  (None,)                      0         ['tf.convert_to_tensor[0][0]',\n",
            "  (TFOpLambda)                                                       'tf.cast[0][0]']             \n",
            "                                                                                                  \n",
            " tf.math.subtract (TFOpLamb  (None, 64)                   0         ['tf.__operators__.add[0][0]',\n",
            " da)                                                                 'tf.math.square[0][0]']      \n",
            "                                                                                                  \n",
            " tf.math.exp (TFOpLambda)    (None, 64)                   0         ['z_log_var[0][0]']           \n",
            "                                                                                                  \n",
            " tf.math.reduce_mean (TFOpL  ()                           0         ['tf.math.squared_difference[0\n",
            " ambda)                                                             ][0]']                        \n",
            "                                                                                                  \n",
            " tf.math.subtract_1 (TFOpLa  (None, 64)                   0         ['tf.math.subtract[0][0]',    \n",
            " mbda)                                                               'tf.math.exp[0][0]']         \n",
            "                                                                                                  \n",
            " tf.math.multiply (TFOpLamb  ()                           0         ['tf.math.reduce_mean[0][0]'] \n",
            " da)                                                                                              \n",
            "                                                                                                  \n",
            " tf.math.reduce_sum (TFOpLa  (None,)                      0         ['tf.math.subtract_1[0][0]']  \n",
            " mbda)                                                                                            \n",
            "                                                                                                  \n",
            " tf.math.multiply_1 (TFOpLa  ()                           0         ['tf.math.multiply[0][0]']    \n",
            " mbda)                                                                                            \n",
            "                                                                                                  \n",
            " tf.math.multiply_2 (TFOpLa  (None,)                      0         ['tf.math.reduce_sum[0][0]']  \n",
            " mbda)                                                                                            \n",
            "                                                                                                  \n",
            " tf.__operators__.add_1 (TF  (None,)                      0         ['tf.math.multiply_1[0][0]',  \n",
            " OpLambda)                                                           'tf.math.multiply_2[0][0]']  \n",
            "                                                                                                  \n",
            " tf.math.reduce_mean_1 (TFO  ()                           0         ['tf.__operators__.add_1[0][0]\n",
            " pLambda)                                                           ']                            \n",
            "                                                                                                  \n",
            " add_loss (AddLoss)          ()                           0         ['tf.math.reduce_mean_1[0][0]'\n",
            "                                                                    ]                             \n",
            "                                                                                                  \n",
            "==================================================================================================\n",
            "Total params: 1423619 (5.43 MB)\n",
            "Trainable params: 1423619 (5.43 MB)\n",
            "Non-trainable params: 0 (0.00 Byte)\n",
            "__________________________________________________________________________________________________\n"
          ]
        }
      ]
    },
    {
      "cell_type": "markdown",
      "source": [
        "este bloque de código completa la configuración del modelo VAE al agregar la función de pérdida al modelo, compilarlo con un optimizador y mostrar un resumen del modelo"
      ],
      "metadata": {
        "id": "PJDxX7NlgGOc"
      }
    },
    {
      "cell_type": "markdown",
      "source": [
        "#### Entrenamos"
      ],
      "metadata": {
        "id": "RJ2wtbj2foiT"
      }
    },
    {
      "cell_type": "code",
      "source": [
        "# Train the autoencoder\n",
        "vae.fit(x_train,\n",
        "        epochs = epochs,\n",
        "        batch_size = batch_size,\n",
        "        validation_data = (x_test, None))"
      ],
      "metadata": {
        "colab": {
          "base_uri": "https://localhost:8080/",
          "height": 0
        },
        "id": "WBnWZD8xPk03",
        "outputId": "f97b68c9-1711-440c-aa91-e9fa13120de2"
      },
      "execution_count": 17,
      "outputs": [
        {
          "output_type": "stream",
          "name": "stdout",
          "text": [
            "Epoch 1/15\n",
            "54/54 [==============================] - 16s 254ms/step - loss: 66.2592 - val_loss: 58.4206\n",
            "Epoch 2/15\n",
            "54/54 [==============================] - 13s 245ms/step - loss: 55.8245 - val_loss: 52.8351\n",
            "Epoch 3/15\n",
            "54/54 [==============================] - 14s 259ms/step - loss: 47.5117 - val_loss: 45.6041\n",
            "Epoch 4/15\n",
            "54/54 [==============================] - 13s 243ms/step - loss: 43.1826 - val_loss: 43.7994\n",
            "Epoch 5/15\n",
            "54/54 [==============================] - 13s 241ms/step - loss: 42.0078 - val_loss: 41.9615\n",
            "Epoch 6/15\n",
            "54/54 [==============================] - 16s 303ms/step - loss: 40.6912 - val_loss: 40.9282\n",
            "Epoch 7/15\n",
            "54/54 [==============================] - 10s 190ms/step - loss: 39.7933 - val_loss: 40.0253\n",
            "Epoch 8/15\n",
            "54/54 [==============================] - 12s 222ms/step - loss: 38.6001 - val_loss: 39.4212\n",
            "Epoch 9/15\n",
            "54/54 [==============================] - 12s 233ms/step - loss: 37.8917 - val_loss: 38.3417\n",
            "Epoch 10/15\n",
            "54/54 [==============================] - 11s 199ms/step - loss: 36.8559 - val_loss: 37.7969\n",
            "Epoch 11/15\n",
            "54/54 [==============================] - 12s 216ms/step - loss: 36.0629 - val_loss: 36.7659\n",
            "Epoch 12/15\n",
            "54/54 [==============================] - 13s 236ms/step - loss: 35.3775 - val_loss: 36.1062\n",
            "Epoch 13/15\n",
            "54/54 [==============================] - 11s 205ms/step - loss: 35.0706 - val_loss: 35.7052\n",
            "Epoch 14/15\n",
            "54/54 [==============================] - 11s 202ms/step - loss: 34.5119 - val_loss: 35.1166\n",
            "Epoch 15/15\n",
            "54/54 [==============================] - 12s 232ms/step - loss: 34.1298 - val_loss: 34.6419\n"
          ]
        },
        {
          "output_type": "execute_result",
          "data": {
            "text/plain": [
              "<keras.src.callbacks.History at 0x7c2a9adb65f0>"
            ]
          },
          "metadata": {},
          "execution_count": 17
        }
      ]
    },
    {
      "cell_type": "markdown",
      "source": [
        "Este código realiza el entrenamiento del autoencoder variacional (VAE) utilizando los datos de entrenamiento x_train"
      ],
      "metadata": {
        "id": "FscjtwjPgKoY"
      }
    },
    {
      "cell_type": "code",
      "source": [
        "# Obtener z_mean, z_log_var para un lote de imágenes de entrada\n",
        "z_mean_batch, z_log_var_batch, _ = encoder.predict(x_test)\n",
        "\n",
        "# Utilizar la función de muestreo para generar muestras de la distribución latente\n",
        "latent_samples = sampling([z_mean_batch, z_log_var_batch])\n",
        "\n",
        "# Decodificar las muestras generadas para obtener imágenes \"inventadas\"\n",
        "decoded_images = decoder.predict(latent_samples)"
      ],
      "metadata": {
        "colab": {
          "base_uri": "https://localhost:8080/",
          "height": 0
        },
        "id": "86mhjXxePrmQ",
        "outputId": "462e1ea0-5e30-4b2d-dbad-7e96ea8760c9"
      },
      "execution_count": 18,
      "outputs": [
        {
          "output_type": "stream",
          "name": "stdout",
          "text": [
            "28/28 [==============================] - 0s 8ms/step\n",
            "28/28 [==============================] - 1s 22ms/step\n"
          ]
        }
      ]
    },
    {
      "cell_type": "markdown",
      "source": [
        "\n",
        "Después de entrenar el modelo VAE, el código utiliza el codificador para obtener información sobre cómo se distribuyen las imágenes de prueba en el espacio latente. Luego, genera nuevas muestras en este espacio latente utilizando estas distribuciones aprendidas. Estas muestras se decodifican para generar imágenes \"inventadas\", que son versiones creativas de las originales, explorando diferentes aspectos del espacio latente y generando nuevas imágenes basadas en lo que el modelo ha aprendido durante el entrenamiento."
      ],
      "metadata": {
        "id": "OOsgppKQglfr"
      }
    },
    {
      "cell_type": "markdown",
      "source": [
        "#### Imágenes Generadas"
      ],
      "metadata": {
        "id": "dIgPURtgfsAF"
      }
    },
    {
      "cell_type": "code",
      "source": [
        "# Elegir una de las imágenes generadas para mostrar\n",
        "image_to_show = decoded_images[0]\n",
        "\n",
        "# Mostrar la imagen generada\n",
        "plt.imshow(image_to_show)\n",
        "plt.axis('off')\n",
        "plt.show()"
      ],
      "metadata": {
        "colab": {
          "base_uri": "https://localhost:8080/",
          "height": 406
        },
        "id": "Mr96rNzRPv4M",
        "outputId": "c34136ad-c696-491f-efea-ea48d4f1b738"
      },
      "execution_count": 19,
      "outputs": [
        {
          "output_type": "display_data",
          "data": {
            "text/plain": [
              "<Figure size 640x480 with 1 Axes>"
            ],
            "image/png": "[encoded data removed]"
          },
          "metadata": {}
        }
      ]
    },
    {
      "cell_type": "markdown",
      "source": [
        "Este bloque de código elige una de las imágenes generadas por el modelo y la muestra visualmente. Si bien es cierto que no se distingue con claridad que hay en la imagen generada, podemos observar detalles claros como el cielo, nubes, y un posible bosque o montañas en la parte inferior de la imagen."
      ],
      "metadata": {
        "id": "acchuU4_grNu"
      }
    },
    {
      "cell_type": "code",
      "source": [
        "len(decoded_images)"
      ],
      "metadata": {
        "colab": {
          "base_uri": "https://localhost:8080/",
          "height": 0
        },
        "id": "Ksh8khtXYRiv",
        "outputId": "98b2b459-d4e3-4c0a-fb2d-a368f8312d8a"
      },
      "execution_count": 42,
      "outputs": [
        {
          "output_type": "execute_result",
          "data": {
            "text/plain": [
              "871"
            ]
          },
          "metadata": {},
          "execution_count": 42
        }
      ]
    }
  ]
}